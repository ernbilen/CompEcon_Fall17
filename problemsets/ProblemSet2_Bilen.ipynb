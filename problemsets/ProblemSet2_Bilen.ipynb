{
 "cells": [
  {
   "cell_type": "markdown",
   "metadata": {},
   "source": [
    "# Problem Set 2"
   ]
  },
  {
   "cell_type": "markdown",
   "metadata": {},
   "source": [
    "## Eren Bilen"
   ]
  },
  {
   "cell_type": "markdown",
   "metadata": {},
   "source": [
    "\n",
    "\n",
    "\n",
    "\n",
    "## Part 1: Problem 1"
   ]
  },
  {
   "cell_type": "markdown",
   "metadata": {},
   "source": [
    "Write a function that accepts a list of numbers as input and\n",
    "returns a new list with the minimum, maximum, and average of the original\n",
    "list (in that order). Remember to use floating point division to calculate the\n",
    "average. Can you implement this function in a single line?"
   ]
  },
  {
   "cell_type": "markdown",
   "metadata": {},
   "source": [
    "## Answer"
   ]
  },
  {
   "cell_type": "code",
   "execution_count": 3,
   "metadata": {
    "collapsed": true
   },
   "outputs": [],
   "source": [
    "def operate(numlist):\n",
    "    m1=min(numlist)\n",
    "    m2=max(numlist)\n",
    "    m3=sum(numlist) / len(numlist)\n",
    "    return m1, m2, m3"
   ]
  },
  {
   "cell_type": "code",
   "execution_count": 4,
   "metadata": {
    "collapsed": true
   },
   "outputs": [],
   "source": [
    "numlist = [2, 4, 6, 7]"
   ]
  },
  {
   "cell_type": "code",
   "execution_count": 5,
   "metadata": {},
   "outputs": [
    {
     "data": {
      "text/plain": [
       "(2, 7, 4.75)"
      ]
     },
     "execution_count": 5,
     "metadata": {},
     "output_type": "execute_result"
    }
   ],
   "source": [
    "operate(numlist)"
   ]
  },
  {
   "cell_type": "markdown",
   "metadata": {},
   "source": [
    "which are the minimum, maximum and average of the list."
   ]
  },
  {
   "cell_type": "markdown",
   "metadata": {
    "collapsed": true
   },
   "source": [
    "## Problem 2"
   ]
  },
  {
   "cell_type": "markdown",
   "metadata": {},
   "source": [
    "Python has several methods that seem to change immutable\n",
    "objects. These methods actually work by making copies of objects. We can\n",
    "therefore determine which object types are mutable and which are immutable\n",
    "by using the equal sign and “changing” the objects"
   ]
  },
  {
   "cell_type": "code",
   "execution_count": 6,
   "metadata": {},
   "outputs": [
    {
     "data": {
      "text/plain": [
       "True"
      ]
     },
     "execution_count": 6,
     "metadata": {},
     "output_type": "execute_result"
    }
   ],
   "source": [
    "dict_1 = {1: 'x', 2: 'b'} # Create a dictionary.\n",
    "dict_2 = dict_1 # Assign it a new name.\n",
    "dict_2[1] = 'a' # Change the 'new' dictionary.\n",
    "dict_1 == dict_2"
   ]
  },
  {
   "cell_type": "markdown",
   "metadata": {},
   "source": [
    "Since altering one name altered the other, we conclude that no copy has\n",
    "been made and that therefore Python dictionaries are mutable. If we repeat\n",
    "this process with a di↵erent type and the two names are di↵erent in the end,\n",
    "we will know that a copy had been made and the type is immutable.\n",
    "Following the example given above, determine which object types are\n",
    "mutable and which are immutable. Use the following operations to modify\n",
    "each of the given types.\n",
    "\n",
    "* numbers num += 1\n",
    "* strings word += ‘a’\n",
    "* lists list.append(1)\n",
    "* tuples tuple += (1,)\n",
    "* dictionaries dict[1] = ‘a’\n",
    "\n",
    "Print a statement of your conclusions."
   ]
  },
  {
   "cell_type": "markdown",
   "metadata": {},
   "source": [
    "## Answer"
   ]
  },
  {
   "cell_type": "code",
   "execution_count": 15,
   "metadata": {},
   "outputs": [
    {
     "data": {
      "text/plain": [
       "False"
      ]
     },
     "execution_count": 15,
     "metadata": {},
     "output_type": "execute_result"
    }
   ],
   "source": [
    "a = 5\n",
    "b = a\n",
    "b += 1\n",
    "a == b"
   ]
  },
  {
   "cell_type": "markdown",
   "metadata": {},
   "source": [
    "immutable."
   ]
  },
  {
   "cell_type": "code",
   "execution_count": 18,
   "metadata": {},
   "outputs": [
    {
     "data": {
      "text/plain": [
       "False"
      ]
     },
     "execution_count": 18,
     "metadata": {},
     "output_type": "execute_result"
    }
   ],
   "source": [
    "str1= 'xyz'\n",
    "str2= str1\n",
    "str2 += 'a'\n",
    "str1==str2"
   ]
  },
  {
   "cell_type": "markdown",
   "metadata": {},
   "source": [
    "immutable again."
   ]
  },
  {
   "cell_type": "code",
   "execution_count": 19,
   "metadata": {},
   "outputs": [
    {
     "data": {
      "text/plain": [
       "True"
      ]
     },
     "execution_count": 19,
     "metadata": {},
     "output_type": "execute_result"
    }
   ],
   "source": [
    "list1= [1,2,3]\n",
    "list2=list1\n",
    "list2.append(1)\n",
    "list1==list2"
   ]
  },
  {
   "cell_type": "markdown",
   "metadata": {},
   "source": [
    "mutable."
   ]
  },
  {
   "cell_type": "code",
   "execution_count": 20,
   "metadata": {},
   "outputs": [
    {
     "data": {
      "text/plain": [
       "False"
      ]
     },
     "execution_count": 20,
     "metadata": {},
     "output_type": "execute_result"
    }
   ],
   "source": [
    "tuple1= (1,2,3)\n",
    "tuple2=tuple1\n",
    "tuple2+=(1,)\n",
    "tuple1==tuple2"
   ]
  },
  {
   "cell_type": "markdown",
   "metadata": {},
   "source": [
    "immutable."
   ]
  },
  {
   "cell_type": "code",
   "execution_count": 21,
   "metadata": {},
   "outputs": [
    {
     "data": {
      "text/plain": [
       "True"
      ]
     },
     "execution_count": 21,
     "metadata": {},
     "output_type": "execute_result"
    }
   ],
   "source": [
    "dic1= {1: 'm', 2: 'n'}\n",
    "dic2=dic1\n",
    "dic2[1]= 'o'\n",
    "dic1==dic2"
   ]
  },
  {
   "cell_type": "markdown",
   "metadata": {},
   "source": [
    "mutable."
   ]
  },
  {
   "cell_type": "markdown",
   "metadata": {},
   "source": [
    "## Problem 3"
   ]
  },
  {
   "cell_type": "markdown",
   "metadata": {},
   "source": [
    "Create a module called calculator.py. Write a function that\n",
    "returns the sum of two arguments, a function that returns the product of two\n",
    "arguments, and a function that returns the square root of a single argument.\n",
    "When the file is either run or imported, nothing should be executed.\n",
    "\n",
    "In your main solutions file, import your new calculator module. Using\n",
    "only the functions defined in the module, write a new function that calculates\n",
    "the length of the hypotenuse of a right triangle given the lengths of the other\n",
    "two sides."
   ]
  },
  {
   "cell_type": "markdown",
   "metadata": {},
   "source": [
    "## Answer"
   ]
  },
  {
   "cell_type": "markdown",
   "metadata": {},
   "source": [
    "'calculator.py' uploaded. "
   ]
  },
  {
   "cell_type": "code",
   "execution_count": 22,
   "metadata": {
    "collapsed": true
   },
   "outputs": [],
   "source": [
    "run calculator.py"
   ]
  },
  {
   "cell_type": "code",
   "execution_count": 23,
   "metadata": {
    "collapsed": true
   },
   "outputs": [],
   "source": [
    "hyp = sqr(sum(product(3,3),product(4,4)))"
   ]
  },
  {
   "cell_type": "code",
   "execution_count": 24,
   "metadata": {},
   "outputs": [
    {
     "data": {
      "text/plain": [
       "5.0"
      ]
     },
     "execution_count": 24,
     "metadata": {},
     "output_type": "execute_result"
    }
   ],
   "source": [
    "hyp"
   ]
  },
  {
   "cell_type": "markdown",
   "metadata": {},
   "source": [
    "## Part 2: Problem 1"
   ]
  },
  {
   "cell_type": "markdown",
   "metadata": {},
   "source": [
    "NumPy’s dot() function performs matrix multiplication. Write\n",
    "a function that defines the following matrices as NumPy arrays.\n",
    "\n",
    "(A and B matrices given in question.)\n",
    "\n",
    "Return the matrix product AB."
   ]
  },
  {
   "cell_type": "markdown",
   "metadata": {},
   "source": [
    "## Answer"
   ]
  },
  {
   "cell_type": "code",
   "execution_count": 25,
   "metadata": {},
   "outputs": [
    {
     "name": "stdout",
     "output_type": "stream",
     "text": [
      "[[ 37  14 -32 -10]\n",
      " [-54  -7  58  65]]\n"
     ]
    }
   ],
   "source": [
    "import numpy as np\n",
    "A = np.array([[3,-1,4],[1,5,-9]])\n",
    "B = np.array([[2, 6, -5, 3],[5,-8,9,7],[9,-3,-2,-3]])\n",
    "AB=np.dot(A,B)\n",
    "print(AB)"
   ]
  },
  {
   "cell_type": "markdown",
   "metadata": {},
   "source": [
    "## Problem 2"
   ]
  },
  {
   "cell_type": "markdown",
   "metadata": {},
   "source": [
    "Write a function that defines the following matrix as a NumPy\n",
    "array.\n",
    "\n",
    "(Matrix A given in question.)\n",
    "\n",
    "Return the matrix -A^3 + 9A^2 - 15A."
   ]
  },
  {
   "cell_type": "code",
   "execution_count": 26,
   "metadata": {},
   "outputs": [
    {
     "data": {
      "text/plain": [
       "array([[0, 0, 0],\n",
       "       [0, 0, 0],\n",
       "       [0, 0, 0]])"
      ]
     },
     "execution_count": 26,
     "metadata": {},
     "output_type": "execute_result"
    }
   ],
   "source": [
    "A = np.array([[3,1,4],[1,5,9],[-5,3,1]])\n",
    "Asq=np.dot(A,A)\n",
    "Acube=np.dot(A,Asq)\n",
    "-Acube + 9*Asq -15*A"
   ]
  },
  {
   "cell_type": "markdown",
   "metadata": {},
   "source": [
    "## Problem 5"
   ]
  },
  {
   "cell_type": "markdown",
   "metadata": {},
   "source": [
    "Write a function that defines the following matrices as NumPy\n",
    "arrays.\n",
    "\n",
    "(A, B, C given in the question)\n",
    "\n",
    "Use NumPy’s stacking functions to create and return the block matrix:\n",
    "\n",
    "(given in the question)"
   ]
  },
  {
   "cell_type": "code",
   "execution_count": 27,
   "metadata": {},
   "outputs": [
    {
     "data": {
      "text/plain": [
       "array([[ 0.,  0.,  0.,  0.,  1.,  1.,  0.,  0.],\n",
       "       [ 0.,  0.,  0.,  2.,  3.,  0.,  1.,  0.],\n",
       "       [ 0.,  0.,  0.,  4.,  5.,  0.,  0.,  1.],\n",
       "       [ 0.,  2.,  4.,  0.,  0.,  0.,  0.,  0.],\n",
       "       [ 1.,  3.,  5.,  0.,  0.,  0.,  0.,  0.],\n",
       "       [ 3.,  0.,  0.,  0.,  0., -2.,  0.,  0.],\n",
       "       [ 3.,  3.,  0.,  0.,  0.,  0., -2.,  0.],\n",
       "       [ 3.,  3.,  3.,  0.,  0.,  0.,  0., -2.]])"
      ]
     },
     "execution_count": 27,
     "metadata": {},
     "output_type": "execute_result"
    }
   ],
   "source": [
    "A = np.array([[0,2,4],[1,3,5]])\n",
    "B = np.array([[3,0,0],[3,3,0],[3,3,3]])\n",
    "C = np.array([[-2,0,0],[0,-2,0],[0,0,-2]])\n",
    "a=np.zeros((3,3))\n",
    "b=np.transpose(A)\n",
    "c=np.identity(3)\n",
    "abc=np.hstack((a,b,c))\n",
    "x=A\n",
    "y=np.zeros((2,2))\n",
    "z=np.zeros((2,3))\n",
    "xyz=np.hstack((x,y,z))\n",
    "g=B\n",
    "h=np.zeros((3,2))\n",
    "i=C\n",
    "ghi=np.hstack((g,h,i))\n",
    "np.vstack((abc,xyz,ghi))"
   ]
  },
  {
   "cell_type": "markdown",
   "metadata": {},
   "source": [
    "## Part 3: Problem 1"
   ]
  },
  {
   "cell_type": "markdown",
   "metadata": {},
   "source": [
    "Expand the Backpack class to match the following specifications.\n",
    "1. Modify the constructor so that it accepts a name, a color, and a maximum\n",
    "size (in that order). Make max_size a default argument with\n",
    "default value 5. Store each input as an attribute.\n",
    "2. Modify the put() method to ensure that the backpack does not go over\n",
    "capacity. If the user tries to put in more than max_size items, print “No\n",
    "Room!” and do not add the item to the contents list.\n",
    "3. Add a new method called dump() that resets the contents of the backpack\n",
    "to an empty list. This method should not receive any arguments\n",
    "(except self).\n",
    "To ensure that your class works properly, consider writing a test function\n",
    "outside outside of the Backpack class that instantiates and analyzes a Backpack\n",
    "object. Your function may look something like this:"
   ]
  },
  {
   "cell_type": "code",
   "execution_count": 18,
   "metadata": {},
   "outputs": [],
   "source": [
    "# def test_backpack():\n",
    "# testpack = Backpack(\"Barry\", \"black\") # Instantiate the object.\n",
    "# if testpack.max_size != 5: # Test an attribute.\n",
    "# print(\"Wrong default max_size!\")\n",
    "# for item in [\"pencil\", \"pen\", \"paper\", \"computer\"]:\n",
    "# testpack.put(item) # Test a method.\n",
    "# print(testpack.contents)"
   ]
  },
  {
   "cell_type": "markdown",
   "metadata": {},
   "source": [
    "## Answer"
   ]
  },
  {
   "cell_type": "code",
   "execution_count": 28,
   "metadata": {
    "collapsed": true
   },
   "outputs": [],
   "source": [
    "class Backpack(object):\n",
    "    def __init__(self, name, color, max_size=5):\n",
    "        self.name = name\n",
    "        self.color = color\n",
    "        self.max_size = max_size\n",
    "        self.contents = []\n",
    "    def put(self, item):\n",
    "        if len(self.contents)>=self.max_size:\n",
    "            print(\"No room!\")\n",
    "        else:\n",
    "            self.contents.append(item)\n",
    "    def take(self, item):\n",
    "        self.contents.remove(item)\n",
    "    def dump(self):\n",
    "        self.contents=[]"
   ]
  },
  {
   "cell_type": "markdown",
   "metadata": {},
   "source": [
    "testing it,"
   ]
  },
  {
   "cell_type": "code",
   "execution_count": 39,
   "metadata": {
    "collapsed": true
   },
   "outputs": [],
   "source": [
    "def test_backpack():\n",
    "    testpack = Backpack(\"Barry\", \"black\") # Instantiate the object.\n",
    "    if testpack.max_size != 5: # Test an attribute.\n",
    "        print(\"Wrong default max_size!\")\n",
    "    for item in [\"pencil\", \"pen\", \"paper\", \"computer\"]:\n",
    "        testpack.put(item) # Test a method.\n",
    "    print(testpack.contents)\n",
    "    for item2 in [\"pen\", \"paper\", \"computer\"]:\n",
    "        testpack.take(item2) # Test another method.\n",
    "    print(testpack.contents)"
   ]
  },
  {
   "cell_type": "code",
   "execution_count": 40,
   "metadata": {},
   "outputs": [
    {
     "name": "stdout",
     "output_type": "stream",
     "text": [
      "['pencil', 'pen', 'paper', 'computer']\n",
      "['pencil']\n"
     ]
    }
   ],
   "source": [
    "test_backpack()"
   ]
  },
  {
   "cell_type": "markdown",
   "metadata": {},
   "source": [
    "works properly."
   ]
  },
  {
   "cell_type": "markdown",
   "metadata": {},
   "source": [
    "## Problem 2"
   ]
  },
  {
   "cell_type": "markdown",
   "metadata": {},
   "source": [
    "Create a Jetpack class that inherits from the Backpack class.\n",
    "1. Overwrite the constructor so that in addition to a name, color, and\n",
    "maximum size, it also accepts an amount of fuel. Change the default\n",
    "value of max_size to 2, and set the default value of fuel to 10. Store the\n",
    "fuel as an attribute.\n",
    "2. Add a fly() method that accepts an amount of fuel to be burned and\n",
    "decrements the fuel attribute by that amount. If the user tries to burn\n",
    "more fuel than remains, print “Not enough fuel!” and do not decrement\n",
    "the fuel.\n",
    "3. Overwrite the dump() method so that both the contents and the fuel\n",
    "tank are emptied."
   ]
  },
  {
   "cell_type": "markdown",
   "metadata": {},
   "source": [
    "## Answer"
   ]
  },
  {
   "cell_type": "code",
   "execution_count": 42,
   "metadata": {
    "collapsed": true
   },
   "outputs": [],
   "source": [
    "class Jetpack(Backpack):\n",
    "    def __init__(self, name, color, max_size=2, fuel=10):\n",
    "        self.fuel=fuel\n",
    "        Backpack.__init__(self,name,color,max_size)\n",
    "    def fly(self, burn):\n",
    "        if self.fuel<burn:\n",
    "            print(\"Not enough fuel!\")\n",
    "        else:\n",
    "            self.fuel = self.fuel - burn\n",
    "    def dump(self):\n",
    "        self.contents=[]\n",
    "        self.fuel=0"
   ]
  },
  {
   "cell_type": "markdown",
   "metadata": {},
   "source": [
    "testing,"
   ]
  },
  {
   "cell_type": "code",
   "execution_count": 44,
   "metadata": {
    "collapsed": true
   },
   "outputs": [],
   "source": [
    "myjetpack = Jetpack(\"Eren\", \"gray\")"
   ]
  },
  {
   "cell_type": "code",
   "execution_count": 45,
   "metadata": {},
   "outputs": [
    {
     "data": {
      "text/plain": [
       "'Eren'"
      ]
     },
     "execution_count": 45,
     "metadata": {},
     "output_type": "execute_result"
    }
   ],
   "source": [
    "myjetpack.name"
   ]
  },
  {
   "cell_type": "code",
   "execution_count": 47,
   "metadata": {
    "collapsed": true
   },
   "outputs": [],
   "source": [
    "myjetpack.put(\"screwdriver\")"
   ]
  },
  {
   "cell_type": "code",
   "execution_count": 48,
   "metadata": {},
   "outputs": [
    {
     "data": {
      "text/plain": [
       "['screwdriver']"
      ]
     },
     "execution_count": 48,
     "metadata": {},
     "output_type": "execute_result"
    }
   ],
   "source": [
    "myjetpack.contents"
   ]
  },
  {
   "cell_type": "code",
   "execution_count": 49,
   "metadata": {},
   "outputs": [
    {
     "data": {
      "text/plain": [
       "10"
      ]
     },
     "execution_count": 49,
     "metadata": {},
     "output_type": "execute_result"
    }
   ],
   "source": [
    "myjetpack.fuel"
   ]
  },
  {
   "cell_type": "code",
   "execution_count": 51,
   "metadata": {
    "collapsed": true
   },
   "outputs": [],
   "source": [
    "myjetpack.fly(2)"
   ]
  },
  {
   "cell_type": "code",
   "execution_count": 52,
   "metadata": {},
   "outputs": [
    {
     "data": {
      "text/plain": [
       "8"
      ]
     },
     "execution_count": 52,
     "metadata": {},
     "output_type": "execute_result"
    }
   ],
   "source": [
    "myjetpack.fuel"
   ]
  },
  {
   "cell_type": "code",
   "execution_count": 53,
   "metadata": {},
   "outputs": [
    {
     "name": "stdout",
     "output_type": "stream",
     "text": [
      "Not enough fuel!\n"
     ]
    }
   ],
   "source": [
    "myjetpack.fly(15)"
   ]
  },
  {
   "cell_type": "code",
   "execution_count": 54,
   "metadata": {
    "collapsed": true
   },
   "outputs": [],
   "source": [
    "myjetpack.dump()"
   ]
  },
  {
   "cell_type": "code",
   "execution_count": 55,
   "metadata": {},
   "outputs": [
    {
     "data": {
      "text/plain": [
       "0"
      ]
     },
     "execution_count": 55,
     "metadata": {},
     "output_type": "execute_result"
    }
   ],
   "source": [
    "myjetpack.fuel"
   ]
  },
  {
   "cell_type": "code",
   "execution_count": 56,
   "metadata": {},
   "outputs": [
    {
     "data": {
      "text/plain": [
       "[]"
      ]
     },
     "execution_count": 56,
     "metadata": {},
     "output_type": "execute_result"
    }
   ],
   "source": [
    "myjetpack.contents"
   ]
  },
  {
   "cell_type": "code",
   "execution_count": 57,
   "metadata": {
    "collapsed": true
   },
   "outputs": [],
   "source": [
    "myjetpack.fuel=10"
   ]
  },
  {
   "cell_type": "code",
   "execution_count": 58,
   "metadata": {},
   "outputs": [
    {
     "data": {
      "text/plain": [
       "10"
      ]
     },
     "execution_count": 58,
     "metadata": {},
     "output_type": "execute_result"
    }
   ],
   "source": [
    "myjetpack.fuel"
   ]
  },
  {
   "cell_type": "code",
   "execution_count": 59,
   "metadata": {
    "collapsed": true
   },
   "outputs": [],
   "source": [
    "myjetpack.put(\"book\")"
   ]
  },
  {
   "cell_type": "code",
   "execution_count": 60,
   "metadata": {},
   "outputs": [
    {
     "data": {
      "text/plain": [
       "['book']"
      ]
     },
     "execution_count": 60,
     "metadata": {},
     "output_type": "execute_result"
    }
   ],
   "source": [
    "myjetpack.contents"
   ]
  },
  {
   "cell_type": "code",
   "execution_count": 61,
   "metadata": {
    "collapsed": true
   },
   "outputs": [],
   "source": [
    "myjetpack.fly(3)"
   ]
  },
  {
   "cell_type": "code",
   "execution_count": 62,
   "metadata": {},
   "outputs": [
    {
     "data": {
      "text/plain": [
       "7"
      ]
     },
     "execution_count": 62,
     "metadata": {},
     "output_type": "execute_result"
    }
   ],
   "source": [
    "myjetpack.fuel"
   ]
  },
  {
   "cell_type": "markdown",
   "metadata": {},
   "source": [
    "works properly."
   ]
  },
  {
   "cell_type": "code",
   "execution_count": null,
   "metadata": {
    "collapsed": true
   },
   "outputs": [],
   "source": []
  }
 ],
 "metadata": {
  "kernelspec": {
   "display_name": "Python 3",
   "language": "python",
   "name": "python3"
  },
  "language_info": {
   "codemirror_mode": {
    "name": "ipython",
    "version": 3
   },
   "file_extension": ".py",
   "mimetype": "text/x-python",
   "name": "python",
   "nbconvert_exporter": "python",
   "pygments_lexer": "ipython3",
   "version": "3.6.1"
  }
 },
 "nbformat": 4,
 "nbformat_minor": 2
}
